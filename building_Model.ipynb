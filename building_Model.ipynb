{
  "cells": [
    {
      "cell_type": "markdown",
      "metadata": {
        "id": "XFT4zbqFwRmr"
      },
      "source": [
        "### **Bag of n_grams: Exercise**\n",
        "\n",
        "- Fake news refers to misinformation or disinformation in the country which is spread through word of mouth and more recently through digital communication such as What's app messages, social media posts, etc.\n",
        "\n",
        "- Fake news spreads faster than Real news and creates problems and fear among groups and in society.\n",
        "\n",
        "- We are going to address these problems using classical NLP techniques and going to classify whether a given message/ text is **Real or Fake Message**.\n",
        "\n",
        "- You will use a Bag of n-grams to pre-process the text and apply different classification algorithms.\n",
        "\n",
        "- Sklearn CountVectorizer has the inbuilt implementations for Bag of Words.\n"
      ]
    },
    {
      "cell_type": "markdown",
      "metadata": {
        "id": "GBcs8GQb0C9_"
      },
      "source": [
        "### **About Data: Fake News Detection**\n",
        "\n",
        "Credits: https://www.kaggle.com/datasets/clmentbisaillon/fake-and-real-news-dataset\n",
        "\n",
        "\n",
        "- This data consists of two columns.\n",
        "        - Text\n",
        "        - label\n",
        "- Text is the statements or messages regarding a particular event/situation.\n",
        "\n",
        "- label feature tells whether the given Text is Fake or Real.\n",
        "\n",
        "- As there are only 2 classes, this problem comes under the **Binary Classification.**\n"
      ]
    },
    {
      "cell_type": "code",
      "source": [
        "#import libraies\n",
        "\n",
        "import pandas as pd\n",
        "import spacy\n",
        "import seaborn as sn\n",
        "from sklearn.model_selection import train_test_split\n",
        "from sklearn.naive_bayes import MultinomialNB\n",
        "from sklearn.pipeline import Pipeline\n",
        "from sklearn.metrics import classification_report\n",
        "from sklearn.feature_extraction.text import CountVectorizer\n",
        "from  sklearn.neighbors import KNeighborsClassifier\n",
        "from sklearn.ensemble import RandomForestClassifier\n",
        "from sklearn.metrics import confusion_matrix\n",
        "from matplotlib import pyplot as plt\n",
        "\n"
      ],
      "metadata": {
        "id": "HIUJV5fpmUS0"
      },
      "execution_count": 31,
      "outputs": []
    },
    {
      "cell_type": "code",
      "execution_count": 2,
      "metadata": {
        "colab": {
          "base_uri": "https://localhost:8080/",
          "height": 313
        },
        "id": "KiYilX-lv_Vm",
        "outputId": "daa96bd6-5837-4de7-d67c-c4d0b0141a41"
      },
      "outputs": [
        {
          "output_type": "execute_result",
          "data": {
            "text/plain": [
              "                                               title  \\\n",
              "0   Trump Campaign Cops To Black Rally Goers: ‘Yo...   \n",
              "1  PRIVACY ALERT: YOUR VACUUM CLEANER IS SPYING O...   \n",
              "2   Trump Will ANNHILILATE The Working Class He’s...   \n",
              "3  OBAMA READY TO DO BATTLE With America: Will “a...   \n",
              "4  Houston port continues salvage efforts to reco...   \n",
              "\n",
              "                                                text       subject  \\\n",
              "0  Donald Trump is a flaming racist, and he has m...          News   \n",
              "1  A fly on the wall? More like a spy on the floo...      politics   \n",
              "2  Throughout his campaign, Trump repeatedly told...          News   \n",
              "3  Thanks to the funding our GOP majority Congres...      politics   \n",
              "4  HOUSTON (Reuters) - Salvage efforts continued ...  politicsNews   \n",
              "\n",
              "                 date lable lable_num  \n",
              "0   February 12, 2016  Fake         0  \n",
              "1        Jul 26, 2017  Fake         0  \n",
              "2   December 11, 2016  Fake         0  \n",
              "3        Jan 13, 2016  Fake         0  \n",
              "4  September 4, 2017   Real         1  "
            ],
            "text/html": [
              "\n",
              "  <div id=\"df-a7d16c13-5735-46e9-8e85-ed6d9dbf9310\" class=\"colab-df-container\">\n",
              "    <div>\n",
              "<style scoped>\n",
              "    .dataframe tbody tr th:only-of-type {\n",
              "        vertical-align: middle;\n",
              "    }\n",
              "\n",
              "    .dataframe tbody tr th {\n",
              "        vertical-align: top;\n",
              "    }\n",
              "\n",
              "    .dataframe thead th {\n",
              "        text-align: right;\n",
              "    }\n",
              "</style>\n",
              "<table border=\"1\" class=\"dataframe\">\n",
              "  <thead>\n",
              "    <tr style=\"text-align: right;\">\n",
              "      <th></th>\n",
              "      <th>title</th>\n",
              "      <th>text</th>\n",
              "      <th>subject</th>\n",
              "      <th>date</th>\n",
              "      <th>lable</th>\n",
              "      <th>lable_num</th>\n",
              "    </tr>\n",
              "  </thead>\n",
              "  <tbody>\n",
              "    <tr>\n",
              "      <th>0</th>\n",
              "      <td>Trump Campaign Cops To Black Rally Goers: ‘Yo...</td>\n",
              "      <td>Donald Trump is a flaming racist, and he has m...</td>\n",
              "      <td>News</td>\n",
              "      <td>February 12, 2016</td>\n",
              "      <td>Fake</td>\n",
              "      <td>0</td>\n",
              "    </tr>\n",
              "    <tr>\n",
              "      <th>1</th>\n",
              "      <td>PRIVACY ALERT: YOUR VACUUM CLEANER IS SPYING O...</td>\n",
              "      <td>A fly on the wall? More like a spy on the floo...</td>\n",
              "      <td>politics</td>\n",
              "      <td>Jul 26, 2017</td>\n",
              "      <td>Fake</td>\n",
              "      <td>0</td>\n",
              "    </tr>\n",
              "    <tr>\n",
              "      <th>2</th>\n",
              "      <td>Trump Will ANNHILILATE The Working Class He’s...</td>\n",
              "      <td>Throughout his campaign, Trump repeatedly told...</td>\n",
              "      <td>News</td>\n",
              "      <td>December 11, 2016</td>\n",
              "      <td>Fake</td>\n",
              "      <td>0</td>\n",
              "    </tr>\n",
              "    <tr>\n",
              "      <th>3</th>\n",
              "      <td>OBAMA READY TO DO BATTLE With America: Will “a...</td>\n",
              "      <td>Thanks to the funding our GOP majority Congres...</td>\n",
              "      <td>politics</td>\n",
              "      <td>Jan 13, 2016</td>\n",
              "      <td>Fake</td>\n",
              "      <td>0</td>\n",
              "    </tr>\n",
              "    <tr>\n",
              "      <th>4</th>\n",
              "      <td>Houston port continues salvage efforts to reco...</td>\n",
              "      <td>HOUSTON (Reuters) - Salvage efforts continued ...</td>\n",
              "      <td>politicsNews</td>\n",
              "      <td>September 4, 2017</td>\n",
              "      <td>Real</td>\n",
              "      <td>1</td>\n",
              "    </tr>\n",
              "  </tbody>\n",
              "</table>\n",
              "</div>\n",
              "    <div class=\"colab-df-buttons\">\n",
              "\n",
              "  <div class=\"colab-df-container\">\n",
              "    <button class=\"colab-df-convert\" onclick=\"convertToInteractive('df-a7d16c13-5735-46e9-8e85-ed6d9dbf9310')\"\n",
              "            title=\"Convert this dataframe to an interactive table.\"\n",
              "            style=\"display:none;\">\n",
              "\n",
              "  <svg xmlns=\"http://www.w3.org/2000/svg\" height=\"24px\" viewBox=\"0 -960 960 960\">\n",
              "    <path d=\"M120-120v-720h720v720H120Zm60-500h600v-160H180v160Zm220 220h160v-160H400v160Zm0 220h160v-160H400v160ZM180-400h160v-160H180v160Zm440 0h160v-160H620v160ZM180-180h160v-160H180v160Zm440 0h160v-160H620v160Z\"/>\n",
              "  </svg>\n",
              "    </button>\n",
              "\n",
              "  <style>\n",
              "    .colab-df-container {\n",
              "      display:flex;\n",
              "      gap: 12px;\n",
              "    }\n",
              "\n",
              "    .colab-df-convert {\n",
              "      background-color: #E8F0FE;\n",
              "      border: none;\n",
              "      border-radius: 50%;\n",
              "      cursor: pointer;\n",
              "      display: none;\n",
              "      fill: #1967D2;\n",
              "      height: 32px;\n",
              "      padding: 0 0 0 0;\n",
              "      width: 32px;\n",
              "    }\n",
              "\n",
              "    .colab-df-convert:hover {\n",
              "      background-color: #E2EBFA;\n",
              "      box-shadow: 0px 1px 2px rgba(60, 64, 67, 0.3), 0px 1px 3px 1px rgba(60, 64, 67, 0.15);\n",
              "      fill: #174EA6;\n",
              "    }\n",
              "\n",
              "    .colab-df-buttons div {\n",
              "      margin-bottom: 4px;\n",
              "    }\n",
              "\n",
              "    [theme=dark] .colab-df-convert {\n",
              "      background-color: #3B4455;\n",
              "      fill: #D2E3FC;\n",
              "    }\n",
              "\n",
              "    [theme=dark] .colab-df-convert:hover {\n",
              "      background-color: #434B5C;\n",
              "      box-shadow: 0px 1px 3px 1px rgba(0, 0, 0, 0.15);\n",
              "      filter: drop-shadow(0px 1px 2px rgba(0, 0, 0, 0.3));\n",
              "      fill: #FFFFFF;\n",
              "    }\n",
              "  </style>\n",
              "\n",
              "    <script>\n",
              "      const buttonEl =\n",
              "        document.querySelector('#df-a7d16c13-5735-46e9-8e85-ed6d9dbf9310 button.colab-df-convert');\n",
              "      buttonEl.style.display =\n",
              "        google.colab.kernel.accessAllowed ? 'block' : 'none';\n",
              "\n",
              "      async function convertToInteractive(key) {\n",
              "        const element = document.querySelector('#df-a7d16c13-5735-46e9-8e85-ed6d9dbf9310');\n",
              "        const dataTable =\n",
              "          await google.colab.kernel.invokeFunction('convertToInteractive',\n",
              "                                                    [key], {});\n",
              "        if (!dataTable) return;\n",
              "\n",
              "        const docLinkHtml = 'Like what you see? Visit the ' +\n",
              "          '<a target=\"_blank\" href=https://colab.research.google.com/notebooks/data_table.ipynb>data table notebook</a>'\n",
              "          + ' to learn more about interactive tables.';\n",
              "        element.innerHTML = '';\n",
              "        dataTable['output_type'] = 'display_data';\n",
              "        await google.colab.output.renderOutput(dataTable, element);\n",
              "        const docLink = document.createElement('div');\n",
              "        docLink.innerHTML = docLinkHtml;\n",
              "        element.appendChild(docLink);\n",
              "      }\n",
              "    </script>\n",
              "  </div>\n",
              "\n",
              "\n",
              "<div id=\"df-91492212-c2b5-4924-9fc3-494a8f91ddaa\">\n",
              "  <button class=\"colab-df-quickchart\" onclick=\"quickchart('df-91492212-c2b5-4924-9fc3-494a8f91ddaa')\"\n",
              "            title=\"Suggest charts\"\n",
              "            style=\"display:none;\">\n",
              "\n",
              "<svg xmlns=\"http://www.w3.org/2000/svg\" height=\"24px\"viewBox=\"0 0 24 24\"\n",
              "     width=\"24px\">\n",
              "    <g>\n",
              "        <path d=\"M19 3H5c-1.1 0-2 .9-2 2v14c0 1.1.9 2 2 2h14c1.1 0 2-.9 2-2V5c0-1.1-.9-2-2-2zM9 17H7v-7h2v7zm4 0h-2V7h2v10zm4 0h-2v-4h2v4z\"/>\n",
              "    </g>\n",
              "</svg>\n",
              "  </button>\n",
              "\n",
              "<style>\n",
              "  .colab-df-quickchart {\n",
              "      --bg-color: #E8F0FE;\n",
              "      --fill-color: #1967D2;\n",
              "      --hover-bg-color: #E2EBFA;\n",
              "      --hover-fill-color: #174EA6;\n",
              "      --disabled-fill-color: #AAA;\n",
              "      --disabled-bg-color: #DDD;\n",
              "  }\n",
              "\n",
              "  [theme=dark] .colab-df-quickchart {\n",
              "      --bg-color: #3B4455;\n",
              "      --fill-color: #D2E3FC;\n",
              "      --hover-bg-color: #434B5C;\n",
              "      --hover-fill-color: #FFFFFF;\n",
              "      --disabled-bg-color: #3B4455;\n",
              "      --disabled-fill-color: #666;\n",
              "  }\n",
              "\n",
              "  .colab-df-quickchart {\n",
              "    background-color: var(--bg-color);\n",
              "    border: none;\n",
              "    border-radius: 50%;\n",
              "    cursor: pointer;\n",
              "    display: none;\n",
              "    fill: var(--fill-color);\n",
              "    height: 32px;\n",
              "    padding: 0;\n",
              "    width: 32px;\n",
              "  }\n",
              "\n",
              "  .colab-df-quickchart:hover {\n",
              "    background-color: var(--hover-bg-color);\n",
              "    box-shadow: 0 1px 2px rgba(60, 64, 67, 0.3), 0 1px 3px 1px rgba(60, 64, 67, 0.15);\n",
              "    fill: var(--button-hover-fill-color);\n",
              "  }\n",
              "\n",
              "  .colab-df-quickchart-complete:disabled,\n",
              "  .colab-df-quickchart-complete:disabled:hover {\n",
              "    background-color: var(--disabled-bg-color);\n",
              "    fill: var(--disabled-fill-color);\n",
              "    box-shadow: none;\n",
              "  }\n",
              "\n",
              "  .colab-df-spinner {\n",
              "    border: 2px solid var(--fill-color);\n",
              "    border-color: transparent;\n",
              "    border-bottom-color: var(--fill-color);\n",
              "    animation:\n",
              "      spin 1s steps(1) infinite;\n",
              "  }\n",
              "\n",
              "  @keyframes spin {\n",
              "    0% {\n",
              "      border-color: transparent;\n",
              "      border-bottom-color: var(--fill-color);\n",
              "      border-left-color: var(--fill-color);\n",
              "    }\n",
              "    20% {\n",
              "      border-color: transparent;\n",
              "      border-left-color: var(--fill-color);\n",
              "      border-top-color: var(--fill-color);\n",
              "    }\n",
              "    30% {\n",
              "      border-color: transparent;\n",
              "      border-left-color: var(--fill-color);\n",
              "      border-top-color: var(--fill-color);\n",
              "      border-right-color: var(--fill-color);\n",
              "    }\n",
              "    40% {\n",
              "      border-color: transparent;\n",
              "      border-right-color: var(--fill-color);\n",
              "      border-top-color: var(--fill-color);\n",
              "    }\n",
              "    60% {\n",
              "      border-color: transparent;\n",
              "      border-right-color: var(--fill-color);\n",
              "    }\n",
              "    80% {\n",
              "      border-color: transparent;\n",
              "      border-right-color: var(--fill-color);\n",
              "      border-bottom-color: var(--fill-color);\n",
              "    }\n",
              "    90% {\n",
              "      border-color: transparent;\n",
              "      border-bottom-color: var(--fill-color);\n",
              "    }\n",
              "  }\n",
              "</style>\n",
              "\n",
              "  <script>\n",
              "    async function quickchart(key) {\n",
              "      const quickchartButtonEl =\n",
              "        document.querySelector('#' + key + ' button');\n",
              "      quickchartButtonEl.disabled = true;  // To prevent multiple clicks.\n",
              "      quickchartButtonEl.classList.add('colab-df-spinner');\n",
              "      try {\n",
              "        const charts = await google.colab.kernel.invokeFunction(\n",
              "            'suggestCharts', [key], {});\n",
              "      } catch (error) {\n",
              "        console.error('Error during call to suggestCharts:', error);\n",
              "      }\n",
              "      quickchartButtonEl.classList.remove('colab-df-spinner');\n",
              "      quickchartButtonEl.classList.add('colab-df-quickchart-complete');\n",
              "    }\n",
              "    (() => {\n",
              "      let quickchartButtonEl =\n",
              "        document.querySelector('#df-91492212-c2b5-4924-9fc3-494a8f91ddaa button');\n",
              "      quickchartButtonEl.style.display =\n",
              "        google.colab.kernel.accessAllowed ? 'block' : 'none';\n",
              "    })();\n",
              "  </script>\n",
              "</div>\n",
              "\n",
              "    </div>\n",
              "  </div>\n"
            ],
            "application/vnd.google.colaboratory.intrinsic+json": {
              "type": "dataframe",
              "variable_name": "df",
              "summary": "{\n  \"name\": \"df\",\n  \"rows\": 10000,\n  \"fields\": [\n    {\n      \"column\": \"title\",\n      \"properties\": {\n        \"dtype\": \"string\",\n        \"num_unique_values\": 9691,\n        \"samples\": [\n          \"Suicide attack targets area southeast of Baghdad\",\n          \"BREAKING: \\u2018Sensitive\\u2019 Benghazi E-Mails Released In Christmas Eve Document Dump\",\n          \"SURREAL: Lone Venezuelan Man Plays Violin Amidst Tear Gas and Molotov Cocktails During Riot [Video]\"\n        ],\n        \"semantic_type\": \"\",\n        \"description\": \"\"\n      }\n    },\n    {\n      \"column\": \"text\",\n      \"properties\": {\n        \"dtype\": \"string\",\n        \"num_unique_values\": 9603,\n        \"samples\": [\n          \"Americans better start fighting back against these people who are shutting down our public roads by hitting these thugs where it really hurts in their wallets. Otherwise, we will continue to see increased violence that is being blamed on pro-Trump supporters in the media Anti-Trump activists who protested his planned appearance in Arizona today by blocking a limited access highway and creating a  traffic nightmare  with  cars backed up for miles  [N.Y. Daily News] could be sued in class action law suits for massive damages modeled after suits filed against those who similarly illegally blocked traffic at the George Washington Bridge, and judgments against other illegal protesters, says public interest law professor John Banzhaf.With the mainstream media continuing to blame Trump supporters for the efforts of their opponents to shut down their free speech rights, it may be time to adopt the tactics the left favors to get its way: lawsuits. That s the suggestion of John Banzhaf, a George Washington University law professor who defies categorization politically but is often labeled a  gadfly.   He explains:Anti-Trumpers Block Highway; Face Class Actions For DamagesSuits Filed re Blocked GW Bridge Provide Precedenthttps://t.co/LN17FGakCw  John Banzhaf (@ProfBanzhaf) March 19, 2016Why and How to Sue Anti-Trump Protesters and Other Disruptors\\\"Sue The Disruptors\\\" More Effective Than Criminal Lawhttps://t.co/9MMiZtE5wq  John Banzhaf (@ProfBanzhaf) March 21, 2016As Banzhaf had predicted and later helped inspire, two different class action law suits seeking millions in civil damages were brought by persons stuck in the massive traffic jams at NYC s GW Bridge which were illegally caused by former aides to Governor Chris Christie.Suing protesters    Suing the Bastards    may be the most effective way to help deter illegal protests, says Banzhaf, noting that slap-on-the-wrist criminal fines usually aren t very effective, especially since it sometimes also helps give illegal protesters a soap box to air their grievances in criminal trials.The lead protester who chained her neck to a pickup truck was George Soros paid operative, Jacinta Gonzalez from New Orleans.But the tide may already be turning, says Banzhaf, citing these examples.When other groups see that the Sea Shepherd Conservation Society has been forced to pay $2.55 million to Japanese companies for illegally using acid and smoke bombs to disrupt their whaling, they may think twice before blocking traffic to advance their agenda, says Banzhaf, who has promoted the idea   and the very slogan   of  Suing the Bastards  when the law is broken.In another example, a student who illegally chained himself to some construction equipment because he opposed an oil pipeline was forced to pay out big bucks for his criminal conduct.As NPR reported it, he was apparently ready to accept a relatively painless conviction for trespass, but not to pay the pipeline company $39,000 in restitution.Similarly, eleven protesters who allegedly engaged in illegal activities at the Mall of American are facing restitution claims from the City of Bloomington.In these and many similar situations, protesters are often willing to accept a small misdemeanor fine and conviction for a chance to focus attention on their cause, especially if it means they get to have a criminal trial which generates even more publicity for them and for their grievance, argues Banzhaf.While most of these actions against criminal protesters have been brought by businesses, there s no reason why similar legal actions cannot also be brought by any person falsely imprisoned on that Arizona highway   as was the case with one of the two GW-Bridge suits.Using the threat of legal actions is a far better and more American way of deterring illegal protests than engaging in physical violence against them, as some Trump supporters have apparently already done, says Banzhaf.Via: PRLOG\",\n          \"The announcement that Harriet Tubman would replace Andrew Jackson on the $20 bill came as little surprise to most, who celebrated progress with a show of support for a truly amazing woman. If you live in the insane, historically inaccurate world of the modern right, you heard a different story altogether; one of the evils of the  Democrat Party  and how their founder tried to stop the gun-toting, Republican abolitionist, Harriet Tubman.Yes, that really is the lie they re spinning. It seems that in most cases of Republicans losing someone they fiercely admired they tend to go back to the time of Lincoln when the men were men and Northerners were Republicans. It really is that easy to understand, yet conservatives just don t get it. In the time leading up to the Civil War, northern progressives like Abraham Lincoln were in the process of forming a very different Republican party than the one we know today. The Southerners fought, seceded, lost, spent a good deal of time living with their humiliation and moved on, content to stick together as Democrats.And that doesn t seem strange to these people? It doesn t seem odd that the Republicans who abolished slavery, wrote the 13th and 14th Amendments and stood side by side with women until they could vote were predominately Northern progressive liberals? Andrew Jackson was the president who saw the beginning of the Democratic party and he was a slave owner from the South. That doesn t seem a little odd?We re talking about Harriet Tubman here. The woman was armed because she lived in fear for her life and for the lives of those she helped. She didn t belong to a political party, since as a black woman during slavery she wouldn t have been able to vote for several reasons. To call her a champion of the Republican party would be like trying to claim that Lincoln himself would be a proud card-carrying member today. Yeah, I know they claim that all the time.You can read the ridiculous claim, which is basically a 2 paragraph propaganda piece circulating among such reputable publications as Alan B West s Site. Fox News hasn t picked it up yet, but the comments on one of their local affiliates who reported the story say it all:That s just the tip of the iceberg. People sure do love to make things up online:How about some conspiracy? The president naturally spends much of his day thinking of ways to screw over Americans, that s how much he hates us:And good golly the cost. New 20s that were going to be printed need to be printed. Maybe we should add that to a conversation about how little the average Republican knows about the budget.Numerous people have also been to the thread to let them know that the Republican party officially became the party of southern regressive morons the day Strom Thurmond jumped ship and joined. Your first political move? Defraud and disenfranchise as many voters as possible across the South running on what we now know as the  Southern Dixiecrat strategy. Then, as Republicans, you shot down the ERA, tried in vain to kill the Civil Rights Movement, created the Moral Majority, The Tea Party and The Freedom Caucus and stocked them with religious zealots just to brighten our day. You re also responsible for the rise of Donald Trump.The bottom line? You don t get to claim Harriet Tubman as one of yours and you certainly don t get to stick us with Andrew Jackson. As a Northern progressive, my great, great, great-grandfather lived on the happy end of the underground railroad, no matter who he voted for in 1862. Stop trying to rewrite history and move along.Featured image via abc7.com/Facebook\",\n          \"WASHINGTON (Reuters) - Virginia Governor Terry McAuliffe on Tuesday vetoed a bill that would have blocked funding for Planned Parenthood, which provides abortions and other health services. The bill passed by the Republican-controlled legislature would have barred the state from providing funds to clinics that perform abortions not covered by Medicaid, the federal healthcare program for the poor. McAuliffe, a Democrat, said the measure would harm thousands of Virginians who relied on Planned Parenthood healthcare services and programs. He vetoed a similar measure last year. \\u201cAttempts to restrict women\\u2019s access to health care will impede the goal of making Virginia the best place to live, work, and run a business,\\u201d he said in a statement. Advocates for the law had said it would underpin organizations that provide the widest range of services. Planned Parenthood draws the ire of many Republicans because it provides abortions. Republican President Donald Trump has pledged to defund the organization. \"\n        ],\n        \"semantic_type\": \"\",\n        \"description\": \"\"\n      }\n    },\n    {\n      \"column\": \"subject\",\n      \"properties\": {\n        \"dtype\": \"category\",\n        \"num_unique_values\": 8,\n        \"samples\": [\n          \"politics\",\n          \"left-news\",\n          \"News\"\n        ],\n        \"semantic_type\": \"\",\n        \"description\": \"\"\n      }\n    },\n    {\n      \"column\": \"date\",\n      \"properties\": {\n        \"dtype\": \"category\",\n        \"num_unique_values\": 2184,\n        \"samples\": [\n          \"May 24, 2016 \",\n          \"Feb 10, 2017\",\n          \"September 19, 2017\"\n        ],\n        \"semantic_type\": \"\",\n        \"description\": \"\"\n      }\n    },\n    {\n      \"column\": \"lable\",\n      \"properties\": {\n        \"dtype\": \"category\",\n        \"num_unique_values\": 2,\n        \"samples\": [\n          \"Real\",\n          \"Fake\"\n        ],\n        \"semantic_type\": \"\",\n        \"description\": \"\"\n      }\n    },\n    {\n      \"column\": \"lable_num\",\n      \"properties\": {\n        \"dtype\": \"category\",\n        \"num_unique_values\": 2,\n        \"samples\": [\n          \"1\",\n          \"0\"\n        ],\n        \"semantic_type\": \"\",\n        \"description\": \"\"\n      }\n    }\n  ]\n}"
            }
          },
          "metadata": {},
          "execution_count": 2
        }
      ],
      "source": [
        "#read both fake and true data set\n",
        "\n",
        "df_true = pd.read_csv(\"True.csv\")\n",
        "df_fake = pd.read_csv(\"Fake.csv\")\n",
        "\n",
        "#Add the new column \"label_num\" which gives a unique number to each of these labels\n",
        "df_true['lable'] = \"Real\"\n",
        "df_true['lable_num'] = \"1\"\n",
        "df_fake['lable'] = \"Fake\"\n",
        "df_fake['lable_num'] = \"0\"\n",
        "\n",
        "#balence data and decrese the num of them\n",
        "min_samples = 5000\n",
        "df_true_blanced = df_true.sample(min_samples, random_state = 2022)\n",
        "df_fake_blanced = df_fake.sample(min_samples, random_state = 2022)\n",
        "\n",
        "# marge them to create total data base\n",
        "\n",
        "df = pd.concat([df_true_blanced,df_fake_blanced]).reset_index(drop=True)\n",
        "\n",
        "# Shuffle the rows to ensure \"Real\" and \"Fake\" labels are interleaved\n",
        "df = df.sample(frac=1, random_state=2022).reset_index(drop=True)\n",
        "\n",
        "\n",
        "#print the shape of dataframe\n",
        "df.shape\n",
        "\n",
        "#print top 5 rows\n",
        "df.head()"
      ]
    },
    {
      "cell_type": "markdown",
      "metadata": {
        "id": "ev3bWDnA3tM-"
      },
      "source": [
        "### **Modelling without Pre-processing Text data**"
      ]
    },
    {
      "cell_type": "code",
      "execution_count": 3,
      "metadata": {
        "id": "hs94POE23Zjd"
      },
      "outputs": [],
      "source": [
        "#Do the 'train-test' splitting with test size of 20% with random state of 2022 and stratify sampling too\n",
        "X_train, X_test, y_train, y_test = train_test_split(\n",
        "    df.text,\n",
        "    df.lable_num,\n",
        "    test_size = 0.2,\n",
        "    random_state = 2022,\n",
        "    stratify = df.lable_num\n",
        ")\n"
      ]
    },
    {
      "cell_type": "code",
      "execution_count": 4,
      "metadata": {
        "id": "4I4S1PJG3ZlO",
        "colab": {
          "base_uri": "https://localhost:8080/"
        },
        "outputId": "fa864317-1b58-4f8f-bc9b-22c1e1a99232"
      },
      "outputs": [
        {
          "output_type": "stream",
          "name": "stdout",
          "text": [
            "(8000,) (2000,)\n"
          ]
        }
      ],
      "source": [
        "#print the shapes of X_train and X_test\n",
        "print(X_train.shape, X_test.shape)\n",
        "\n",
        "\n",
        "\n"
      ]
    },
    {
      "cell_type": "markdown",
      "metadata": {
        "id": "x2sO9uck4ILs"
      },
      "source": [
        "**Attempt 1** :\n",
        "\n",
        "1. using sklearn pipeline module create a classification pipeline to classify the Data.\n",
        "\n",
        "**Note:**\n",
        "- using CountVectorizer with unigram, bigram, and trigrams.\n",
        "- use KNN as the classifier with n_neighbors of 10 and metric as 'euclidean' distance.\n",
        "- print the classification report.\n"
      ]
    },
    {
      "cell_type": "code",
      "execution_count": 5,
      "metadata": {
        "id": "LLs6pmXE3Zou",
        "colab": {
          "base_uri": "https://localhost:8080/"
        },
        "outputId": "aef4143e-0e29-45d9-c26c-97dc4e3b29c3"
      },
      "outputs": [
        {
          "output_type": "stream",
          "name": "stdout",
          "text": [
            "              precision    recall  f1-score   support\n",
            "\n",
            "           0       0.96      0.93      0.94      1000\n",
            "           1       0.94      0.96      0.95      1000\n",
            "\n",
            "    accuracy                           0.94      2000\n",
            "   macro avg       0.95      0.95      0.94      2000\n",
            "weighted avg       0.95      0.94      0.94      2000\n",
            "\n"
          ]
        }
      ],
      "source": [
        "#unigram classification\n",
        "#1. create a pipeline object\n",
        "clf = Pipeline([\n",
        "    ('vectorizer', CountVectorizer()),\n",
        "    ('Multi NB', MultinomialNB())\n",
        "])\n",
        "\n",
        "\n",
        "\n",
        "#2. fit with X_train and y_train\n",
        "\n",
        "clf.fit(X_train, y_train)\n",
        "\n",
        "\n",
        "#3. get the predictions for X_test and store it in y_pred\n",
        "\n",
        "y_pred = clf.predict(X_test)\n",
        "\n",
        "#4. print the classfication report\n",
        "\n",
        "print(classification_report(y_test, y_pred))\n"
      ]
    },
    {
      "cell_type": "code",
      "source": [
        "#bigram classification\n",
        "#1. create a pipeline object\n",
        "clf = Pipeline([\n",
        "    ('vectorizer', CountVectorizer(ngram_range = (1 , 2))),\n",
        "    ('Multi NB', MultinomialNB())\n",
        "])\n",
        "\n",
        "\n",
        "\n",
        "#2. fit with X_train and y_train\n",
        "\n",
        "clf.fit(X_train, y_train)\n",
        "\n",
        "\n",
        "#3. get the predictions for X_test and store it in y_pred\n",
        "\n",
        "y_pred = clf.predict(X_test)\n",
        "\n",
        "#4. print the classfication report\n",
        "\n",
        "print(classification_report(y_test, y_pred))\n"
      ],
      "metadata": {
        "id": "bJ6QNRD39Ggn",
        "colab": {
          "base_uri": "https://localhost:8080/"
        },
        "outputId": "8d262a9a-8afe-4d92-c7ff-d3857c00f471"
      },
      "execution_count": 6,
      "outputs": [
        {
          "output_type": "stream",
          "name": "stdout",
          "text": [
            "              precision    recall  f1-score   support\n",
            "\n",
            "           0       0.97      0.95      0.96      1000\n",
            "           1       0.95      0.97      0.96      1000\n",
            "\n",
            "    accuracy                           0.96      2000\n",
            "   macro avg       0.96      0.96      0.96      2000\n",
            "weighted avg       0.96      0.96      0.96      2000\n",
            "\n"
          ]
        }
      ]
    },
    {
      "cell_type": "markdown",
      "metadata": {
        "id": "OU0g90Ra7BTW"
      },
      "source": [
        "**Attempt 2** :\n",
        "\n",
        "1. using the sklearn pipeline module create a classification pipeline to classify the Data.\n",
        "\n",
        "**Note:**\n",
        "- using CountVectorizer with unigram, bigram, and trigrams.\n",
        "- use **KNN** as the classifier with n_neighbors of 10 and metric as 'cosine' distance.\n",
        "- print the classification report.\n"
      ]
    },
    {
      "cell_type": "code",
      "execution_count": 7,
      "metadata": {
        "id": "eEsLSrIC3Zqf",
        "colab": {
          "base_uri": "https://localhost:8080/"
        },
        "outputId": "413da41b-42e8-46e6-b84f-82dbdf04918c"
      },
      "outputs": [
        {
          "output_type": "stream",
          "name": "stdout",
          "text": [
            "              precision    recall  f1-score   support\n",
            "\n",
            "           0       0.57      0.95      0.71      1000\n",
            "           1       0.85      0.28      0.42      1000\n",
            "\n",
            "    accuracy                           0.62      2000\n",
            "   macro avg       0.71      0.62      0.57      2000\n",
            "weighted avg       0.71      0.62      0.57      2000\n",
            "\n"
          ]
        }
      ],
      "source": [
        "#1. create a pipeline object\n",
        "clf = Pipeline([\n",
        "    ('vectorizer_trigrams', CountVectorizer(ngram_range = (1, 3))),          #using the ngram_range parameter\n",
        "     ('KNN', (KNeighborsClassifier(n_neighbors = 10, metric = 'cosine')))    #using the KNN classifier with 10 neighbors and cosine distance\n",
        "])\n",
        "\n",
        "#2. fit with X_train and y_train\n",
        "clf.fit(X_train, y_train)\n",
        "\n",
        "\n",
        "#3. get the predictions for X_test and store it in y_pred\n",
        "y_pred = clf.predict(X_test)\n",
        "\n",
        "\n",
        "#4. print the classfication report\n",
        "print(classification_report(y_test, y_pred))"
      ]
    },
    {
      "cell_type": "markdown",
      "metadata": {
        "id": "Kl5zoCbE8jds"
      },
      "source": [
        "\n",
        "**Attempt 3** :\n",
        "\n",
        "1. using the sklearn pipeline module create a classification pipeline to classify the Data.\n",
        "\n",
        "**Note:**\n",
        "- using CountVectorizer with only trigrams.\n",
        "- use **RandomForest** as the classifier.\n",
        "- print the classification report.\n"
      ]
    },
    {
      "cell_type": "code",
      "execution_count": 20,
      "metadata": {
        "id": "4bywjvZyv_ga",
        "colab": {
          "base_uri": "https://localhost:8080/"
        },
        "outputId": "7e54d14d-eb32-4b07-b35c-855f6c561d32"
      },
      "outputs": [
        {
          "output_type": "stream",
          "name": "stdout",
          "text": [
            "              precision    recall  f1-score   support\n",
            "\n",
            "           0       0.98      0.95      0.97      1000\n",
            "           1       0.95      0.98      0.97      1000\n",
            "\n",
            "    accuracy                           0.97      2000\n",
            "   macro avg       0.97      0.97      0.97      2000\n",
            "weighted avg       0.97      0.97      0.97      2000\n",
            "\n"
          ]
        }
      ],
      "source": [
        "#1. create a pipeline object\n",
        "clf = Pipeline([\n",
        "    ('vectorizer_trigrams', CountVectorizer(ngram_range = (1, 3))),          #using the ngram_range parameter\n",
        "     ('random_forest', (RandomForestClassifier()))\n",
        "])\n",
        "\n",
        "\n",
        "#2. fit with X_train and y_train\n",
        "clf.fit(X_train, y_train)\n",
        "\n",
        "\n",
        "#3. get the predictions for X_test and store it in y_pred\n",
        "y_pred = clf.predict(X_test)\n",
        "\n",
        "\n",
        "#4. print the classfication report\n",
        "print(classification_report(y_test, y_pred))"
      ]
    },
    {
      "cell_type": "markdown",
      "metadata": {
        "id": "RMeeE5zB8tZz"
      },
      "source": [
        "\n",
        "**Attempt 4** :\n",
        "\n",
        "1. using the sklearn pipeline module create a classification pipeline to classify the Data.\n",
        "\n",
        "**Note:**\n",
        "- using CountVectorizer with both unigram and bigrams.\n",
        "- use **Multinomial Naive Bayes** as the classifier with an alpha value of 0.75.\n",
        "- print the classification report.\n"
      ]
    },
    {
      "cell_type": "code",
      "execution_count": 21,
      "metadata": {
        "id": "9cP_zluNwBjS",
        "colab": {
          "base_uri": "https://localhost:8080/"
        },
        "outputId": "6fc0086e-20c8-4205-ee31-975519bacefb"
      },
      "outputs": [
        {
          "output_type": "stream",
          "name": "stdout",
          "text": [
            "              precision    recall  f1-score   support\n",
            "\n",
            "           0       0.97      0.95      0.96      1000\n",
            "           1       0.95      0.97      0.96      1000\n",
            "\n",
            "    accuracy                           0.96      2000\n",
            "   macro avg       0.96      0.96      0.96      2000\n",
            "weighted avg       0.96      0.96      0.96      2000\n",
            "\n"
          ]
        }
      ],
      "source": [
        "\n",
        "#1. create a pipeline object\n",
        "\n",
        "clf = Pipeline([\n",
        "    ('vectorizer', CountVectorizer(ngram_range = (1 , 2))),\n",
        "    ('Multi NB', MultinomialNB(alpha = 0.75))\n",
        "])\n",
        "\n",
        "\n",
        "#2. fit with X_train and y_train\n",
        "clf.fit(X_train, y_train)\n",
        "\n",
        "\n",
        "#3. get the predictions for X_test and store it in y_pred\n",
        "y_pred = clf.predict(X_test)\n",
        "\n",
        "\n",
        "#4. print the classfication report\n",
        "print(classification_report(y_test, y_pred))"
      ]
    },
    {
      "cell_type": "markdown",
      "metadata": {
        "id": "IoFBbMga9tPB"
      },
      "source": [
        "<h3>Use text pre-processing to remove stop words, punctuations and apply lemmatization </h3>"
      ]
    },
    {
      "cell_type": "code",
      "execution_count": 22,
      "metadata": {
        "id": "R14_wUhGjqj5"
      },
      "outputs": [],
      "source": [
        "# load english language model and create nlp object from it\n",
        "nlp = spacy.load(\"en_core_web_sm\")\n",
        "\n",
        "def preprocess(text):\n",
        "    # remove stop words and lemmatize the text\n",
        "    doc = nlp(text)\n",
        "    filtered_tokens = []\n",
        "    for token in doc:\n",
        "        if token.is_stop or token.is_punct:\n",
        "            continue\n",
        "        filtered_tokens.append(token.lemma_)\n",
        "\n",
        "    return \" \".join(filtered_tokens)"
      ]
    },
    {
      "cell_type": "code",
      "execution_count": 23,
      "metadata": {
        "id": "JIKvTbl9jql0"
      },
      "outputs": [],
      "source": [
        "# create a new column \"preprocessed_txt\" and use the utility function above to get the clean data\n",
        "# this will take some time, please be patient\n",
        "df['preprocessed_txt'] = df['text'].apply(preprocess)\n"
      ]
    },
    {
      "cell_type": "code",
      "execution_count": 26,
      "metadata": {
        "id": "0O-uZncOjqpG",
        "colab": {
          "base_uri": "https://localhost:8080/",
          "height": 313
        },
        "outputId": "59da40dc-88eb-4e9c-98e0-139a04e83edf"
      },
      "outputs": [
        {
          "output_type": "execute_result",
          "data": {
            "text/plain": [
              "                                               title  \\\n",
              "0   Trump Campaign Cops To Black Rally Goers: ‘Yo...   \n",
              "1  PRIVACY ALERT: YOUR VACUUM CLEANER IS SPYING O...   \n",
              "2   Trump Will ANNHILILATE The Working Class He’s...   \n",
              "3  OBAMA READY TO DO BATTLE With America: Will “a...   \n",
              "4  Houston port continues salvage efforts to reco...   \n",
              "\n",
              "                                                text       subject  \\\n",
              "0  Donald Trump is a flaming racist, and he has m...          News   \n",
              "1  A fly on the wall? More like a spy on the floo...      politics   \n",
              "2  Throughout his campaign, Trump repeatedly told...          News   \n",
              "3  Thanks to the funding our GOP majority Congres...      politics   \n",
              "4  HOUSTON (Reuters) - Salvage efforts continued ...  politicsNews   \n",
              "\n",
              "                 date lable lable_num  \\\n",
              "0   February 12, 2016  Fake         0   \n",
              "1        Jul 26, 2017  Fake         0   \n",
              "2   December 11, 2016  Fake         0   \n",
              "3        Jan 13, 2016  Fake         0   \n",
              "4  September 4, 2017   Real         1   \n",
              "\n",
              "                                    preprocessed_txt  \n",
              "0  Donald Trump flame racist secret history call ...  \n",
              "1  fly wall like spy floor home turn dog isn t we...  \n",
              "2  campaign Trump repeatedly tell brainwash U.S. ...  \n",
              "3  thank funding GOP majority Congress approve en...  \n",
              "4  HOUSTON Reuters salvage effort continue Monday...  "
            ],
            "text/html": [
              "\n",
              "  <div id=\"df-633e399a-b395-47d2-be7c-95bad02de538\" class=\"colab-df-container\">\n",
              "    <div>\n",
              "<style scoped>\n",
              "    .dataframe tbody tr th:only-of-type {\n",
              "        vertical-align: middle;\n",
              "    }\n",
              "\n",
              "    .dataframe tbody tr th {\n",
              "        vertical-align: top;\n",
              "    }\n",
              "\n",
              "    .dataframe thead th {\n",
              "        text-align: right;\n",
              "    }\n",
              "</style>\n",
              "<table border=\"1\" class=\"dataframe\">\n",
              "  <thead>\n",
              "    <tr style=\"text-align: right;\">\n",
              "      <th></th>\n",
              "      <th>title</th>\n",
              "      <th>text</th>\n",
              "      <th>subject</th>\n",
              "      <th>date</th>\n",
              "      <th>lable</th>\n",
              "      <th>lable_num</th>\n",
              "      <th>preprocessed_txt</th>\n",
              "    </tr>\n",
              "  </thead>\n",
              "  <tbody>\n",
              "    <tr>\n",
              "      <th>0</th>\n",
              "      <td>Trump Campaign Cops To Black Rally Goers: ‘Yo...</td>\n",
              "      <td>Donald Trump is a flaming racist, and he has m...</td>\n",
              "      <td>News</td>\n",
              "      <td>February 12, 2016</td>\n",
              "      <td>Fake</td>\n",
              "      <td>0</td>\n",
              "      <td>Donald Trump flame racist secret history call ...</td>\n",
              "    </tr>\n",
              "    <tr>\n",
              "      <th>1</th>\n",
              "      <td>PRIVACY ALERT: YOUR VACUUM CLEANER IS SPYING O...</td>\n",
              "      <td>A fly on the wall? More like a spy on the floo...</td>\n",
              "      <td>politics</td>\n",
              "      <td>Jul 26, 2017</td>\n",
              "      <td>Fake</td>\n",
              "      <td>0</td>\n",
              "      <td>fly wall like spy floor home turn dog isn t we...</td>\n",
              "    </tr>\n",
              "    <tr>\n",
              "      <th>2</th>\n",
              "      <td>Trump Will ANNHILILATE The Working Class He’s...</td>\n",
              "      <td>Throughout his campaign, Trump repeatedly told...</td>\n",
              "      <td>News</td>\n",
              "      <td>December 11, 2016</td>\n",
              "      <td>Fake</td>\n",
              "      <td>0</td>\n",
              "      <td>campaign Trump repeatedly tell brainwash U.S. ...</td>\n",
              "    </tr>\n",
              "    <tr>\n",
              "      <th>3</th>\n",
              "      <td>OBAMA READY TO DO BATTLE With America: Will “a...</td>\n",
              "      <td>Thanks to the funding our GOP majority Congres...</td>\n",
              "      <td>politics</td>\n",
              "      <td>Jan 13, 2016</td>\n",
              "      <td>Fake</td>\n",
              "      <td>0</td>\n",
              "      <td>thank funding GOP majority Congress approve en...</td>\n",
              "    </tr>\n",
              "    <tr>\n",
              "      <th>4</th>\n",
              "      <td>Houston port continues salvage efforts to reco...</td>\n",
              "      <td>HOUSTON (Reuters) - Salvage efforts continued ...</td>\n",
              "      <td>politicsNews</td>\n",
              "      <td>September 4, 2017</td>\n",
              "      <td>Real</td>\n",
              "      <td>1</td>\n",
              "      <td>HOUSTON Reuters salvage effort continue Monday...</td>\n",
              "    </tr>\n",
              "  </tbody>\n",
              "</table>\n",
              "</div>\n",
              "    <div class=\"colab-df-buttons\">\n",
              "\n",
              "  <div class=\"colab-df-container\">\n",
              "    <button class=\"colab-df-convert\" onclick=\"convertToInteractive('df-633e399a-b395-47d2-be7c-95bad02de538')\"\n",
              "            title=\"Convert this dataframe to an interactive table.\"\n",
              "            style=\"display:none;\">\n",
              "\n",
              "  <svg xmlns=\"http://www.w3.org/2000/svg\" height=\"24px\" viewBox=\"0 -960 960 960\">\n",
              "    <path d=\"M120-120v-720h720v720H120Zm60-500h600v-160H180v160Zm220 220h160v-160H400v160Zm0 220h160v-160H400v160ZM180-400h160v-160H180v160Zm440 0h160v-160H620v160ZM180-180h160v-160H180v160Zm440 0h160v-160H620v160Z\"/>\n",
              "  </svg>\n",
              "    </button>\n",
              "\n",
              "  <style>\n",
              "    .colab-df-container {\n",
              "      display:flex;\n",
              "      gap: 12px;\n",
              "    }\n",
              "\n",
              "    .colab-df-convert {\n",
              "      background-color: #E8F0FE;\n",
              "      border: none;\n",
              "      border-radius: 50%;\n",
              "      cursor: pointer;\n",
              "      display: none;\n",
              "      fill: #1967D2;\n",
              "      height: 32px;\n",
              "      padding: 0 0 0 0;\n",
              "      width: 32px;\n",
              "    }\n",
              "\n",
              "    .colab-df-convert:hover {\n",
              "      background-color: #E2EBFA;\n",
              "      box-shadow: 0px 1px 2px rgba(60, 64, 67, 0.3), 0px 1px 3px 1px rgba(60, 64, 67, 0.15);\n",
              "      fill: #174EA6;\n",
              "    }\n",
              "\n",
              "    .colab-df-buttons div {\n",
              "      margin-bottom: 4px;\n",
              "    }\n",
              "\n",
              "    [theme=dark] .colab-df-convert {\n",
              "      background-color: #3B4455;\n",
              "      fill: #D2E3FC;\n",
              "    }\n",
              "\n",
              "    [theme=dark] .colab-df-convert:hover {\n",
              "      background-color: #434B5C;\n",
              "      box-shadow: 0px 1px 3px 1px rgba(0, 0, 0, 0.15);\n",
              "      filter: drop-shadow(0px 1px 2px rgba(0, 0, 0, 0.3));\n",
              "      fill: #FFFFFF;\n",
              "    }\n",
              "  </style>\n",
              "\n",
              "    <script>\n",
              "      const buttonEl =\n",
              "        document.querySelector('#df-633e399a-b395-47d2-be7c-95bad02de538 button.colab-df-convert');\n",
              "      buttonEl.style.display =\n",
              "        google.colab.kernel.accessAllowed ? 'block' : 'none';\n",
              "\n",
              "      async function convertToInteractive(key) {\n",
              "        const element = document.querySelector('#df-633e399a-b395-47d2-be7c-95bad02de538');\n",
              "        const dataTable =\n",
              "          await google.colab.kernel.invokeFunction('convertToInteractive',\n",
              "                                                    [key], {});\n",
              "        if (!dataTable) return;\n",
              "\n",
              "        const docLinkHtml = 'Like what you see? Visit the ' +\n",
              "          '<a target=\"_blank\" href=https://colab.research.google.com/notebooks/data_table.ipynb>data table notebook</a>'\n",
              "          + ' to learn more about interactive tables.';\n",
              "        element.innerHTML = '';\n",
              "        dataTable['output_type'] = 'display_data';\n",
              "        await google.colab.output.renderOutput(dataTable, element);\n",
              "        const docLink = document.createElement('div');\n",
              "        docLink.innerHTML = docLinkHtml;\n",
              "        element.appendChild(docLink);\n",
              "      }\n",
              "    </script>\n",
              "  </div>\n",
              "\n",
              "\n",
              "<div id=\"df-5c083312-d1d2-429a-b207-c35acfc56b8a\">\n",
              "  <button class=\"colab-df-quickchart\" onclick=\"quickchart('df-5c083312-d1d2-429a-b207-c35acfc56b8a')\"\n",
              "            title=\"Suggest charts\"\n",
              "            style=\"display:none;\">\n",
              "\n",
              "<svg xmlns=\"http://www.w3.org/2000/svg\" height=\"24px\"viewBox=\"0 0 24 24\"\n",
              "     width=\"24px\">\n",
              "    <g>\n",
              "        <path d=\"M19 3H5c-1.1 0-2 .9-2 2v14c0 1.1.9 2 2 2h14c1.1 0 2-.9 2-2V5c0-1.1-.9-2-2-2zM9 17H7v-7h2v7zm4 0h-2V7h2v10zm4 0h-2v-4h2v4z\"/>\n",
              "    </g>\n",
              "</svg>\n",
              "  </button>\n",
              "\n",
              "<style>\n",
              "  .colab-df-quickchart {\n",
              "      --bg-color: #E8F0FE;\n",
              "      --fill-color: #1967D2;\n",
              "      --hover-bg-color: #E2EBFA;\n",
              "      --hover-fill-color: #174EA6;\n",
              "      --disabled-fill-color: #AAA;\n",
              "      --disabled-bg-color: #DDD;\n",
              "  }\n",
              "\n",
              "  [theme=dark] .colab-df-quickchart {\n",
              "      --bg-color: #3B4455;\n",
              "      --fill-color: #D2E3FC;\n",
              "      --hover-bg-color: #434B5C;\n",
              "      --hover-fill-color: #FFFFFF;\n",
              "      --disabled-bg-color: #3B4455;\n",
              "      --disabled-fill-color: #666;\n",
              "  }\n",
              "\n",
              "  .colab-df-quickchart {\n",
              "    background-color: var(--bg-color);\n",
              "    border: none;\n",
              "    border-radius: 50%;\n",
              "    cursor: pointer;\n",
              "    display: none;\n",
              "    fill: var(--fill-color);\n",
              "    height: 32px;\n",
              "    padding: 0;\n",
              "    width: 32px;\n",
              "  }\n",
              "\n",
              "  .colab-df-quickchart:hover {\n",
              "    background-color: var(--hover-bg-color);\n",
              "    box-shadow: 0 1px 2px rgba(60, 64, 67, 0.3), 0 1px 3px 1px rgba(60, 64, 67, 0.15);\n",
              "    fill: var(--button-hover-fill-color);\n",
              "  }\n",
              "\n",
              "  .colab-df-quickchart-complete:disabled,\n",
              "  .colab-df-quickchart-complete:disabled:hover {\n",
              "    background-color: var(--disabled-bg-color);\n",
              "    fill: var(--disabled-fill-color);\n",
              "    box-shadow: none;\n",
              "  }\n",
              "\n",
              "  .colab-df-spinner {\n",
              "    border: 2px solid var(--fill-color);\n",
              "    border-color: transparent;\n",
              "    border-bottom-color: var(--fill-color);\n",
              "    animation:\n",
              "      spin 1s steps(1) infinite;\n",
              "  }\n",
              "\n",
              "  @keyframes spin {\n",
              "    0% {\n",
              "      border-color: transparent;\n",
              "      border-bottom-color: var(--fill-color);\n",
              "      border-left-color: var(--fill-color);\n",
              "    }\n",
              "    20% {\n",
              "      border-color: transparent;\n",
              "      border-left-color: var(--fill-color);\n",
              "      border-top-color: var(--fill-color);\n",
              "    }\n",
              "    30% {\n",
              "      border-color: transparent;\n",
              "      border-left-color: var(--fill-color);\n",
              "      border-top-color: var(--fill-color);\n",
              "      border-right-color: var(--fill-color);\n",
              "    }\n",
              "    40% {\n",
              "      border-color: transparent;\n",
              "      border-right-color: var(--fill-color);\n",
              "      border-top-color: var(--fill-color);\n",
              "    }\n",
              "    60% {\n",
              "      border-color: transparent;\n",
              "      border-right-color: var(--fill-color);\n",
              "    }\n",
              "    80% {\n",
              "      border-color: transparent;\n",
              "      border-right-color: var(--fill-color);\n",
              "      border-bottom-color: var(--fill-color);\n",
              "    }\n",
              "    90% {\n",
              "      border-color: transparent;\n",
              "      border-bottom-color: var(--fill-color);\n",
              "    }\n",
              "  }\n",
              "</style>\n",
              "\n",
              "  <script>\n",
              "    async function quickchart(key) {\n",
              "      const quickchartButtonEl =\n",
              "        document.querySelector('#' + key + ' button');\n",
              "      quickchartButtonEl.disabled = true;  // To prevent multiple clicks.\n",
              "      quickchartButtonEl.classList.add('colab-df-spinner');\n",
              "      try {\n",
              "        const charts = await google.colab.kernel.invokeFunction(\n",
              "            'suggestCharts', [key], {});\n",
              "      } catch (error) {\n",
              "        console.error('Error during call to suggestCharts:', error);\n",
              "      }\n",
              "      quickchartButtonEl.classList.remove('colab-df-spinner');\n",
              "      quickchartButtonEl.classList.add('colab-df-quickchart-complete');\n",
              "    }\n",
              "    (() => {\n",
              "      let quickchartButtonEl =\n",
              "        document.querySelector('#df-5c083312-d1d2-429a-b207-c35acfc56b8a button');\n",
              "      quickchartButtonEl.style.display =\n",
              "        google.colab.kernel.accessAllowed ? 'block' : 'none';\n",
              "    })();\n",
              "  </script>\n",
              "</div>\n",
              "\n",
              "    </div>\n",
              "  </div>\n"
            ],
            "application/vnd.google.colaboratory.intrinsic+json": {
              "type": "dataframe",
              "variable_name": "df",
              "summary": "{\n  \"name\": \"df\",\n  \"rows\": 10000,\n  \"fields\": [\n    {\n      \"column\": \"title\",\n      \"properties\": {\n        \"dtype\": \"string\",\n        \"num_unique_values\": 9691,\n        \"samples\": [\n          \"Suicide attack targets area southeast of Baghdad\",\n          \"BREAKING: \\u2018Sensitive\\u2019 Benghazi E-Mails Released In Christmas Eve Document Dump\",\n          \"SURREAL: Lone Venezuelan Man Plays Violin Amidst Tear Gas and Molotov Cocktails During Riot [Video]\"\n        ],\n        \"semantic_type\": \"\",\n        \"description\": \"\"\n      }\n    },\n    {\n      \"column\": \"text\",\n      \"properties\": {\n        \"dtype\": \"string\",\n        \"num_unique_values\": 9603,\n        \"samples\": [\n          \"Americans better start fighting back against these people who are shutting down our public roads by hitting these thugs where it really hurts in their wallets. Otherwise, we will continue to see increased violence that is being blamed on pro-Trump supporters in the media Anti-Trump activists who protested his planned appearance in Arizona today by blocking a limited access highway and creating a  traffic nightmare  with  cars backed up for miles  [N.Y. Daily News] could be sued in class action law suits for massive damages modeled after suits filed against those who similarly illegally blocked traffic at the George Washington Bridge, and judgments against other illegal protesters, says public interest law professor John Banzhaf.With the mainstream media continuing to blame Trump supporters for the efforts of their opponents to shut down their free speech rights, it may be time to adopt the tactics the left favors to get its way: lawsuits. That s the suggestion of John Banzhaf, a George Washington University law professor who defies categorization politically but is often labeled a  gadfly.   He explains:Anti-Trumpers Block Highway; Face Class Actions For DamagesSuits Filed re Blocked GW Bridge Provide Precedenthttps://t.co/LN17FGakCw  John Banzhaf (@ProfBanzhaf) March 19, 2016Why and How to Sue Anti-Trump Protesters and Other Disruptors\\\"Sue The Disruptors\\\" More Effective Than Criminal Lawhttps://t.co/9MMiZtE5wq  John Banzhaf (@ProfBanzhaf) March 21, 2016As Banzhaf had predicted and later helped inspire, two different class action law suits seeking millions in civil damages were brought by persons stuck in the massive traffic jams at NYC s GW Bridge which were illegally caused by former aides to Governor Chris Christie.Suing protesters    Suing the Bastards    may be the most effective way to help deter illegal protests, says Banzhaf, noting that slap-on-the-wrist criminal fines usually aren t very effective, especially since it sometimes also helps give illegal protesters a soap box to air their grievances in criminal trials.The lead protester who chained her neck to a pickup truck was George Soros paid operative, Jacinta Gonzalez from New Orleans.But the tide may already be turning, says Banzhaf, citing these examples.When other groups see that the Sea Shepherd Conservation Society has been forced to pay $2.55 million to Japanese companies for illegally using acid and smoke bombs to disrupt their whaling, they may think twice before blocking traffic to advance their agenda, says Banzhaf, who has promoted the idea   and the very slogan   of  Suing the Bastards  when the law is broken.In another example, a student who illegally chained himself to some construction equipment because he opposed an oil pipeline was forced to pay out big bucks for his criminal conduct.As NPR reported it, he was apparently ready to accept a relatively painless conviction for trespass, but not to pay the pipeline company $39,000 in restitution.Similarly, eleven protesters who allegedly engaged in illegal activities at the Mall of American are facing restitution claims from the City of Bloomington.In these and many similar situations, protesters are often willing to accept a small misdemeanor fine and conviction for a chance to focus attention on their cause, especially if it means they get to have a criminal trial which generates even more publicity for them and for their grievance, argues Banzhaf.While most of these actions against criminal protesters have been brought by businesses, there s no reason why similar legal actions cannot also be brought by any person falsely imprisoned on that Arizona highway   as was the case with one of the two GW-Bridge suits.Using the threat of legal actions is a far better and more American way of deterring illegal protests than engaging in physical violence against them, as some Trump supporters have apparently already done, says Banzhaf.Via: PRLOG\",\n          \"The announcement that Harriet Tubman would replace Andrew Jackson on the $20 bill came as little surprise to most, who celebrated progress with a show of support for a truly amazing woman. If you live in the insane, historically inaccurate world of the modern right, you heard a different story altogether; one of the evils of the  Democrat Party  and how their founder tried to stop the gun-toting, Republican abolitionist, Harriet Tubman.Yes, that really is the lie they re spinning. It seems that in most cases of Republicans losing someone they fiercely admired they tend to go back to the time of Lincoln when the men were men and Northerners were Republicans. It really is that easy to understand, yet conservatives just don t get it. In the time leading up to the Civil War, northern progressives like Abraham Lincoln were in the process of forming a very different Republican party than the one we know today. The Southerners fought, seceded, lost, spent a good deal of time living with their humiliation and moved on, content to stick together as Democrats.And that doesn t seem strange to these people? It doesn t seem odd that the Republicans who abolished slavery, wrote the 13th and 14th Amendments and stood side by side with women until they could vote were predominately Northern progressive liberals? Andrew Jackson was the president who saw the beginning of the Democratic party and he was a slave owner from the South. That doesn t seem a little odd?We re talking about Harriet Tubman here. The woman was armed because she lived in fear for her life and for the lives of those she helped. She didn t belong to a political party, since as a black woman during slavery she wouldn t have been able to vote for several reasons. To call her a champion of the Republican party would be like trying to claim that Lincoln himself would be a proud card-carrying member today. Yeah, I know they claim that all the time.You can read the ridiculous claim, which is basically a 2 paragraph propaganda piece circulating among such reputable publications as Alan B West s Site. Fox News hasn t picked it up yet, but the comments on one of their local affiliates who reported the story say it all:That s just the tip of the iceberg. People sure do love to make things up online:How about some conspiracy? The president naturally spends much of his day thinking of ways to screw over Americans, that s how much he hates us:And good golly the cost. New 20s that were going to be printed need to be printed. Maybe we should add that to a conversation about how little the average Republican knows about the budget.Numerous people have also been to the thread to let them know that the Republican party officially became the party of southern regressive morons the day Strom Thurmond jumped ship and joined. Your first political move? Defraud and disenfranchise as many voters as possible across the South running on what we now know as the  Southern Dixiecrat strategy. Then, as Republicans, you shot down the ERA, tried in vain to kill the Civil Rights Movement, created the Moral Majority, The Tea Party and The Freedom Caucus and stocked them with religious zealots just to brighten our day. You re also responsible for the rise of Donald Trump.The bottom line? You don t get to claim Harriet Tubman as one of yours and you certainly don t get to stick us with Andrew Jackson. As a Northern progressive, my great, great, great-grandfather lived on the happy end of the underground railroad, no matter who he voted for in 1862. Stop trying to rewrite history and move along.Featured image via abc7.com/Facebook\",\n          \"WASHINGTON (Reuters) - Virginia Governor Terry McAuliffe on Tuesday vetoed a bill that would have blocked funding for Planned Parenthood, which provides abortions and other health services. The bill passed by the Republican-controlled legislature would have barred the state from providing funds to clinics that perform abortions not covered by Medicaid, the federal healthcare program for the poor. McAuliffe, a Democrat, said the measure would harm thousands of Virginians who relied on Planned Parenthood healthcare services and programs. He vetoed a similar measure last year. \\u201cAttempts to restrict women\\u2019s access to health care will impede the goal of making Virginia the best place to live, work, and run a business,\\u201d he said in a statement. Advocates for the law had said it would underpin organizations that provide the widest range of services. Planned Parenthood draws the ire of many Republicans because it provides abortions. Republican President Donald Trump has pledged to defund the organization. \"\n        ],\n        \"semantic_type\": \"\",\n        \"description\": \"\"\n      }\n    },\n    {\n      \"column\": \"subject\",\n      \"properties\": {\n        \"dtype\": \"category\",\n        \"num_unique_values\": 8,\n        \"samples\": [\n          \"politics\",\n          \"left-news\",\n          \"News\"\n        ],\n        \"semantic_type\": \"\",\n        \"description\": \"\"\n      }\n    },\n    {\n      \"column\": \"date\",\n      \"properties\": {\n        \"dtype\": \"category\",\n        \"num_unique_values\": 2184,\n        \"samples\": [\n          \"May 24, 2016 \",\n          \"Feb 10, 2017\",\n          \"September 19, 2017\"\n        ],\n        \"semantic_type\": \"\",\n        \"description\": \"\"\n      }\n    },\n    {\n      \"column\": \"lable\",\n      \"properties\": {\n        \"dtype\": \"category\",\n        \"num_unique_values\": 2,\n        \"samples\": [\n          \"Real\",\n          \"Fake\"\n        ],\n        \"semantic_type\": \"\",\n        \"description\": \"\"\n      }\n    },\n    {\n      \"column\": \"lable_num\",\n      \"properties\": {\n        \"dtype\": \"category\",\n        \"num_unique_values\": 2,\n        \"samples\": [\n          \"1\",\n          \"0\"\n        ],\n        \"semantic_type\": \"\",\n        \"description\": \"\"\n      }\n    },\n    {\n      \"column\": \"preprocessed_txt\",\n      \"properties\": {\n        \"dtype\": \"string\",\n        \"num_unique_values\": 9601,\n        \"samples\": [\n          \"Americans well start fight people shut public road hit thug hurt wallet continue increase violence blame pro trump supporter medium anti trump activist protest plan appearance Arizona today block limited access highway create   traffic nightmare     car back mile   N.Y. Daily News sue class action law suit massive damage model suit file similarly illegally block traffic George Washington Bridge judgment illegal protester say public interest law professor John Banzhaf mainstream medium continue blame Trump supporter effort opponent shut free speech right time adopt tactic left favor way lawsuit s suggestion John Banzhaf George Washington University law professor defy categorization politically label   gadfly    explain Anti trumpers Block Highway Face Class Actions DamagesSuits file Blocked GW Bridge Provide Precedenthttps://t.co/LN17FGakCw   John Banzhaf @ProfBanzhaf March 19 2016why Sue Anti Trump Protesters disruptors\\\"sue disruptor effective Criminal Lawhttps://t.co/9MMiZtE5wq   John Banzhaf @ProfBanzhaf March 21 2016as Banzhaf predict later help inspire different class action law suit seek million civil damage bring person stick massive traffic jam NYC s GW Bridge illegally cause aide Governor Chris Christie suing protester     sue bastard     effective way help deter illegal protest say Banzhaf note slap wrist criminal fine usually aren t effective especially help illegal protester soap box air grievance criminal trial lead protester chain neck pickup truck George Soros pay operative Jacinta Gonzalez New Orleans tide turn say Banzhaf cite example group Sea Shepherd Conservation Society force pay $ 2.55 million japanese company illegally acid smoke bomb disrupt whaling think twice block traffic advance agenda say Banzhaf promote idea    slogan      sue bastard   law break example student illegally chain construction equipment oppose oil pipeline force pay big buck criminal conduct NPR report apparently ready accept relatively painless conviction trespass pay pipeline company $ 39,000 restitution similarly protester allegedly engage illegal activity Mall American face restitution claim City Bloomington similar situation protester willing accept small misdemeanor fine conviction chance focus attention cause especially mean criminal trial generate publicity grievance argue Banzhaf action criminal protester bring business s reason similar legal action bring person falsely imprison Arizona highway    case GW Bridge suit threat legal action far well american way deter illegal protest engage physical violence Trump supporter apparently say Banzhaf PRLOG\",\n          \"announcement Harriet Tubman replace Andrew Jackson $ 20 bill come little surprise celebrate progress support truly amazing woman live insane historically inaccurate world modern right hear different story altogether evil   Democrat Party   founder try stop gun tote republican abolitionist Harriet Tubman yes lie spin case Republicans lose fiercely admire tend time Lincoln man man Northerners Republicans easy understand conservative don t time lead Civil War northern progressive like Abraham Lincoln process form different republican party know today Southerners fight secede lose spend good deal time live humiliation move content stick Democrats doesn t strange people doesn t odd Republicans abolish slavery write 13th 14th Amendments stand woman vote predominately northern progressive liberal Andrew Jackson president see beginning democratic party slave owner South doesn t little odd?we talk Harriet Tubman woman arm live fear life life help didn t belong political party black woman slavery wouldn t able vote reason champion republican party like try claim Lincoln proud card carry member today yeah know claim time read ridiculous claim basically 2 paragraph propaganda piece circulate reputable publication Alan B West s Site Fox News hasn t pick comment local affiliate report story s tip iceberg People sure love thing online conspiracy president naturally spend day thinking way screw Americans s hate good golly cost new 20 go print need print maybe add conversation little average Republican know budget numerous people thread let know republican party officially party southern regressive moron day Strom Thurmond jump ship join political defraud disenfranchise voter possible South run know   southern Dixiecrat strategy Republicans shoot ERA try vain kill Civil Rights Movement create Moral Majority Tea Party Freedom Caucus stock religious zealot brighten day responsible rise Donald Trump line don t claim Harriet Tubman certainly don t stick Andrew Jackson northern progressive great great great grandfather live happy end underground railroad matter vote 1862 stop try rewrite history feature image abc7.com/Facebook\"\n        ],\n        \"semantic_type\": \"\",\n        \"description\": \"\"\n      }\n    }\n  ]\n}"
            }
          },
          "metadata": {},
          "execution_count": 26
        }
      ],
      "source": [
        "#print the top 5 rows\n",
        "df.head()"
      ]
    },
    {
      "cell_type": "markdown",
      "metadata": {
        "id": "IMVuYaYM-giF"
      },
      "source": [
        "**Build a model with pre processed text**"
      ]
    },
    {
      "cell_type": "code",
      "execution_count": 28,
      "metadata": {
        "id": "D25BcI45jqrE"
      },
      "outputs": [],
      "source": [
        "#Do the 'train-test' splitting with test size of 20% with random state of 2022 and stratify sampling too\n",
        "#Note: Make sure to use only the \"preprocessed_txt\" column for splitting\n",
        "X_train, X_test, y_train, y_test = train_test_split(\n",
        "    df.preprocessed_txt,\n",
        "    df.lable_num,\n",
        "    test_size = 0.2,\n",
        "    random_state = 2022,\n",
        "    stratify = df.lable_num\n",
        ")\n",
        "\n"
      ]
    },
    {
      "cell_type": "markdown",
      "metadata": {
        "id": "ZOh36PXR-nR_"
      },
      "source": [
        "**Let's check the scores with our best model till now**\n",
        "- Random Forest"
      ]
    },
    {
      "cell_type": "markdown",
      "metadata": {
        "id": "YbfpQ5-kDgMt"
      },
      "source": [
        "**Attempt1** :\n",
        "\n",
        "1. using the sklearn pipeline module create a classification pipeline to classify the Data.\n",
        "\n",
        "**Note:**\n",
        "- using CountVectorizer with only trigrams.\n",
        "- use **RandomForest** as the classifier.\n",
        "- print the classification report.\n"
      ]
    },
    {
      "cell_type": "code",
      "execution_count": 29,
      "metadata": {
        "id": "BGQusE2rjquN",
        "colab": {
          "base_uri": "https://localhost:8080/"
        },
        "outputId": "5b18b766-c3d8-4dee-bd6f-ed0fb4ab0d5b"
      },
      "outputs": [
        {
          "output_type": "stream",
          "name": "stdout",
          "text": [
            "              precision    recall  f1-score   support\n",
            "\n",
            "           0       0.83      0.95      0.89      1000\n",
            "           1       0.95      0.81      0.87      1000\n",
            "\n",
            "    accuracy                           0.88      2000\n",
            "   macro avg       0.89      0.88      0.88      2000\n",
            "weighted avg       0.89      0.88      0.88      2000\n",
            "\n"
          ]
        }
      ],
      "source": [
        "#1. create a pipeline object\n",
        "clf = Pipeline([\n",
        "    ('vectorizer_trigrams', CountVectorizer(ngram_range = (3, 3))),          #using the ngram_range parameter\n",
        "     ('random_forest', (RandomForestClassifier()))\n",
        "])\n",
        "\n",
        "\n",
        "#2. fit with X_train and y_train\n",
        "clf.fit(X_train, y_train)\n",
        "\n",
        "\n",
        "#3. get the predictions for X_test and store it in y_pred\n",
        "y_pred = clf.predict(X_test)\n",
        "\n",
        "\n",
        "#4. print the classfication report\n",
        "print(classification_report(y_test, y_pred))"
      ]
    },
    {
      "cell_type": "markdown",
      "metadata": {
        "id": "GB78pcAPEFQZ"
      },
      "source": [
        "**Attempt2** :\n",
        "\n",
        "1. using the sklearn pipeline module create a classification pipeline to classify the Data.\n",
        "\n",
        "**Note:**\n",
        "- using CountVectorizer with unigram, Bigram, and trigrams.\n",
        "- use **RandomForest** as the classifier.\n",
        "- print the classification report.\n"
      ]
    },
    {
      "cell_type": "code",
      "execution_count": 25,
      "metadata": {
        "id": "rpwvD1mvjqvx",
        "colab": {
          "base_uri": "https://localhost:8080/"
        },
        "outputId": "1bae3162-185a-4862-eac4-0e3e3a00f697"
      },
      "outputs": [
        {
          "output_type": "stream",
          "name": "stdout",
          "text": [
            "              precision    recall  f1-score   support\n",
            "\n",
            "           0       0.98      0.95      0.97      1000\n",
            "           1       0.95      0.98      0.97      1000\n",
            "\n",
            "    accuracy                           0.97      2000\n",
            "   macro avg       0.97      0.97      0.97      2000\n",
            "weighted avg       0.97      0.97      0.97      2000\n",
            "\n"
          ]
        }
      ],
      "source": [
        "#1. create a pipeline object\n",
        "clf = Pipeline([\n",
        "    ('vectorizer_trigrams', CountVectorizer(ngram_range = (1, 3))),          #using the ngram_range parameter\n",
        "     ('random_forest', (RandomForestClassifier()))\n",
        "])\n",
        "\n",
        "\n",
        "#2. fit with X_train and y_train\n",
        "clf.fit(X_train, y_train)\n",
        "\n",
        "\n",
        "#3. get the predictions for X_test and store it in y_pred\n",
        "y_pred = clf.predict(X_test)\n",
        "\n",
        "\n",
        "#4. print the classfication report\n",
        "print(classification_report(y_test, y_pred))"
      ]
    },
    {
      "cell_type": "code",
      "execution_count": 32,
      "metadata": {
        "id": "SLT0vKGRHAMF",
        "colab": {
          "base_uri": "https://localhost:8080/",
          "height": 656
        },
        "outputId": "3b376567-d011-4151-bb18-89b34599febd"
      },
      "outputs": [
        {
          "output_type": "execute_result",
          "data": {
            "text/plain": [
              "Text(95.72222222222221, 0.5, 'Truth')"
            ]
          },
          "metadata": {},
          "execution_count": 32
        },
        {
          "output_type": "display_data",
          "data": {
            "text/plain": [
              "<Figure size 1000x700 with 2 Axes>"
            ],
            "image/png": "[encoded data removed]"
          },
          "metadata": {}
        }
      ],
      "source": [
        "#finally print the confusion matrix for the best model\n",
        "cm = confusion_matrix(y_test, y_pred)\n",
        "cm\n",
        "plt.figure(figsize = (10,7))\n",
        "sn.heatmap(cm, annot=True, fmt='d')\n",
        "plt.xlabel('Prediction')\n",
        "plt.ylabel('Truth')\n"
      ]
    },
    {
      "cell_type": "markdown",
      "metadata": {
        "id": "pSfKnzG4EYSn"
      },
      "source": [
        "## **Please write down Final Observations**\n"
      ]
    },
    {
      "cell_type": "markdown",
      "metadata": {
        "id": "qyHYJReEihZH"
      },
      "source": [
        "## [**Solution**](./bag_of_n_grams_exercise_solutions.ipynb)"
      ]
    }
  ],
  "metadata": {
    "colab": {
      "provenance": []
    },
    "kernelspec": {
      "display_name": "Python 3 (ipykernel)",
      "language": "python",
      "name": "python3"
    },
    "language_info": {
      "codemirror_mode": {
        "name": "ipython",
        "version": 3
      },
      "file_extension": ".py",
      "mimetype": "text/x-python",
      "name": "python",
      "nbconvert_exporter": "python",
      "pygments_lexer": "ipython3",
      "version": "3.8.10"
    }
  },
  "nbformat": 4,
  "nbformat_minor": 0
}